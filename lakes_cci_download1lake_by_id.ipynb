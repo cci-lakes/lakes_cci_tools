{
 "cells": [
  {
   "cell_type": "markdown",
   "id": "e82de098",
   "metadata": {},
   "source": [
    "# Description \n",
    "\n",
    "This script allows to download remote sensing data from the CCI\n",
    "dataset for a single lake according to user defined period. \n",
    "The zone will be defined by de boundaries of the polygon defining the lake. \n",
    "If there are other lakes near the specified one, they will be masked.\n",
    "This script is useful for dowloading data for a single lake. Information \n",
    "about its boundaries is not required.\n",
    "\n",
    "\n",
    "\n",
    "INPUT:\n",
    "    <ul>\n",
    "    <li>The identifier of the lake. The id of the lake is indicated \n",
    "      in the csv file containing lake metadata. This file is available \n",
    "      at the project website:\n",
    "       https://climate.esa.int/documents/2607/lakescci_v2.1.0_metadata.csv</li>\n",
    "    <li>Land mask: the netCDF file containing the mask of the lakes in CCI dataset this file \n",
    "      is part of the dataset and is available at:\n",
    "      https://dap.ceda.ac.uk/neodc/esacci/lakes/data/lake_products/L3S/v2.0.1/ESA_CCI_static_lake_mask_v2.0.1.nc</li>\n",
    "    <li>first/last date</li>\n",
    "    <li>version of the dataset to be download (default value 2.0.1)</li>\n",
    "    <li>ouptput dir to storage the extracted data</li>\n",
    "    <li>prefix (optional): to be added at the output files name</li>\n",
    "    </ul>\n",
    "\n",
    " Reference: Carrea, L.; Crétaux, J.-F.; Liu, X.; Wu, Y.; Bergé-Nguyen,\n",
    " M.; Calmettes, B.; Duguay, C.; Jiang, D.; Merchant, C.J.; Mueller, D.;\n",
    " Selmes, N.; Simis, S.; Spyrakos, E.; Stelzer, K.; Warren, M.; Yesou,\n",
    " H.; Zhang, D. (2022): ESA Lakes Climate Change Initiative (Lakes_cci):\n",
    " Lake products, Version 2.0.1. NERC EDS Centre for Environmental Data\n",
    " Analysis, date of citation.\n",
    " \n",
    "https://dx.doi.org/10.5285/7fc9df8070d34cacab8092e45ef276f1\n",
    "\n",
    " WARNING: This is a beta version. All controls on the input parameters\n",
    " are not (yet) available. If you find a bug, have a question or a\n",
    " suggestion, don't hesitate to contact us, it will be much appreciated :\n",
    " cci_lakes.contact@groupcls.com\n",
    "\n",
    " to be executed with python version >= 3.9"
   ]
  },
  {
   "cell_type": "code",
   "execution_count": 11,
   "id": "73840e38",
   "metadata": {},
   "outputs": [],
   "source": [
    "import os\n",
    "import numpy as np\n",
    "import xarray as xr\n",
    "import datetime\n",
    "import matplotlib.pyplot as plt\n",
    "%matplotlib widget\n",
    "%matplotlib inline"
   ]
  },
  {
   "cell_type": "markdown",
   "id": "d23676a7",
   "metadata": {},
   "source": [
    "# Step 1: Define input parameters.\n",
    "\n",
    "In this exemple, we download data over Lake Erie (USA).\n",
    "\n",
    "The lake identifier (12) was obtained from the csv file (https://climate.esa.int/documents/2607/lakescci_v2.1.0_metadata.csv) available in the project website: (https://climate.esa.int/fr/projects/lakes/)\n",
    "\n",
    "In our case, we are interesteb by  data from 2019-01-01 to 2019-01-31\n"
   ]
  },
  {
   "cell_type": "code",
   "execution_count": 20,
   "id": "de058c2e",
   "metadata": {},
   "outputs": [],
   "source": [
    "###########################################################################################\n",
    "# input parameters\n",
    "###########################################################################################   \n",
    "\n",
    "# lakes mask file \n",
    "maskfile = 'ESA_CCI_static_lake_mask_v2.0.1.nc'\n",
    "\n",
    "# Id for lake Erie: 12\n",
    "lake_id = 12\n",
    "\n",
    "# defining the period of time in string format: YYYY-MM-DD\n",
    "# dates values must be between 1992-09-26 and 2020-12-31\n",
    "mindate = '2019-01-01'\n",
    "maxdate = '2019-01-31'\n",
    "\n",
    "# version dataset (2.1 is the version published in July 2024)\n",
    "version = '2.1'\n",
    "\n",
    "# output\n",
    "outdir = 'output/Erie'\n",
    "outprefix = 'Erie_'"
   ]
  },
  {
   "cell_type": "code",
   "execution_count": 13,
   "id": "d9095fe8",
   "metadata": {},
   "outputs": [],
   "source": [
    "# test if dates are in the temporal coverage\n",
    "\n",
    "mindate = datetime.datetime.strptime(mindate, '%Y-%m-%d')\n",
    "maxdate = datetime.datetime.strptime(maxdate, '%Y-%m-%d')\n",
    "mindate = max([mindate, datetime.datetime(1992,9,26)])\n",
    "maxdate = min([maxdate, datetime.datetime(2020,12,31)])"
   ]
  },
  {
   "cell_type": "code",
   "execution_count": 14,
   "id": "e4e57984",
   "metadata": {},
   "outputs": [],
   "source": [
    "# create the output directory if it does not exist\n",
    "if os.path.exists(outdir)==False:\n",
    "    os.makedirs(outdir)"
   ]
  },
  {
   "cell_type": "markdown",
   "id": "c8282287",
   "metadata": {},
   "source": [
    "# Step 2: Mask creation\n",
    "\n",
    "In this step, latitude and longitude values inside the lake are obtained from the lake mask file. The boundary values will then be used to read the data in the region covering the lake."
   ]
  },
  {
   "cell_type": "code",
   "execution_count": 15,
   "id": "73c90ec5",
   "metadata": {},
   "outputs": [],
   "source": [
    "\n",
    "###################################################################\n",
    "# create mask base on lake_id\n",
    "###################################################################\n",
    "\n",
    "mask_xr = xr.open_dataset(maskfile)\n",
    "mask = mask_xr['CCI_lakeid'].values\n",
    "mask_ind  = np.where(mask == lake_id)\n",
    "minx = np.min(mask_ind[1][:]) - 1\n",
    "maxx = np.max(mask_ind[1][:]) + 1\n",
    "miny = np.min(mask_ind[0][:]) - 1\n",
    "maxy = np.max(mask_ind[0][:]) + 1\n",
    "\n",
    "mask_lake = mask[miny:maxy+1, minx:maxx+1]\n",
    "mask_lake[mask_lake!=lake_id] = 0\n",
    "mask_lake[mask_lake == lake_id] = 1\n",
    "\n",
    "lat = mask_xr['lat'][miny:maxy+1].values\n",
    "lon = mask_xr['lon'][minx:maxx+1].values\n"
   ]
  },
  {
   "cell_type": "markdown",
   "id": "91b6a671",
   "metadata": {},
   "source": [
    "A good validation test is to check that the lake ID is correct by visualising the lake mask."
   ]
  },
  {
   "cell_type": "code",
   "execution_count": 16,
   "id": "f8f74788",
   "metadata": {
    "scrolled": true
   },
   "outputs": [
    {
     "data": {
      "image/png": "[encoded data removed]",
      "text/plain": [
       "<Figure size 773.565x288 with 1 Axes>"
      ]
     },
     "metadata": {
      "needs_background": "light"
     },
     "output_type": "display_data"
    }
   ],
   "source": [
    "# plot lake mask \n",
    "plt.matshow(mask_lake, extent=[np.min(lon), np.max(lon), np.min(lat), np.max(lat)])\n",
    "plt.show()"
   ]
  },
  {
   "cell_type": "markdown",
   "id": "edaad41b",
   "metadata": {},
   "source": [
    "# Step 3: Data download\n",
    "\n",
    "In this step, the data for the defined lake is is downloaded from each daily file and written, in netCDF format, to the output directory\n"
   ]
  },
  {
   "cell_type": "code",
   "execution_count": null,
   "id": "4ed98596",
   "metadata": {},
   "outputs": [],
   "source": [
    "# The download process\n",
    "\n",
    "for data_date in np.arange(mindate.toordinal(), maxdate.toordinal()+1):\n",
    "    current_date = datetime.datetime.fromordinal(data_date)\n",
    "    date_str = current_date.strftime(\"%Y%m%d\")\n",
    "\n",
    "    print (f'Downloading data from ESACCI-LAKES-L3S-LK_PRODUCTS-MERGED-{date_str}-fv{version}.nc')\n",
    "    path = 'https://data.cci.ceda.ac.uk/thredds/dodsC/esacci/lakes/data/lake_products/L3S/v2.1/merged_product/'\n",
    "    path += f'{current_date.year}/{current_date.month:02}/'\n",
    "    path += f'ESACCI-LAKES-L3S-LK_PRODUCTS-MERGED-{date_str}-fv{version}.0.nc'\n",
    "    \n",
    "    \n",
    "    dataset = xr.open_dataset(path, engine=\"pydap\")\n",
    "    \n",
    "    # extract data in the defined zone\n",
    "    dataset = dataset.isel(lat=slice(miny, maxy+1), lon=slice(minx, maxx+1))\n",
    "    \n",
    "     # apply mask only for varibles with three dimensions : time, lat, lon\n",
    "    for var in dataset.data_vars:\n",
    "        if len (dataset[var].dims) == 3 :\n",
    "            filval = dataset[var].encoding['_FillValue']\n",
    "            data = dataset[var][0,:,:].values\n",
    "            data[mask_lake == 0] = filval\n",
    "            dataset[var][0,:,:] = data\n",
    "    \n",
    "    # create a netcdf file\n",
    "    outfile = f'{outdir}/{outprefix}ESACCI-LAKES-L3S-LK_PRODUCTS-MERGED-{date_str}-fv{version}.nc'\n",
    "    dataset.to_netcdf(outfile)\n"
   ]
  }
 ],
 "metadata": {
  "kernelspec": {
   "display_name": "Python 3",
   "language": "python",
   "name": "python3"
  },
  "language_info": {
   "codemirror_mode": {
    "name": "ipython",
    "version": 3
   },
   "file_extension": ".py",
   "mimetype": "text/x-python",
   "name": "python",
   "nbconvert_exporter": "python",
   "pygments_lexer": "ipython3",
   "version": "3.9.4"
  }
 },
 "nbformat": 4,
 "nbformat_minor": 5
}

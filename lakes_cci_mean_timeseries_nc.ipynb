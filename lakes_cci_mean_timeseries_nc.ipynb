{
 "cells": [
  {
   "cell_type": "markdown",
   "id": "0f363412",
   "metadata": {},
   "source": [
    "# Description \n",
    "\n",
    "This script allows to generate a timeseries of the mean value of a variable for a lake_id for lakes_cci version 2.1.0\n",
    "\n",
    "\n",
    "INPUT:\n",
    "    <ul>\n",
    "    <li>The identifier of the lake. The id of the lake is indicated \n",
    "      in the csv file containing lake metadata. This file is available \n",
    "      at the project website:\n",
    "      https://admin.climate.esa.int/documents/2607/lakescci_v2.1.0_metadata.csv </li>\n",
    "    <li>Name of the variable in the netCDF files</li>\n",
    "    <liLand mask: the netCDF file containing the mask of the lakes in CCI datase (no changes in the landmask between v2.0.1 and v2.1) is available at: https://dap.ceda.ac.uk/neodc/esacci/lakes/data/lake_products/L3S/v2.0.1/ESA_CCI_static_lake_mask_v2.0.1.nc</li>\n",
    "    <li>First/last dates</li>\n",
    "    <li>Version of the dataset to be download (default value 2.1.0)</li>\n",
    "    </ul>\n",
    "\n",
    " Reference: Carrea, L.; Crétaux, J.-F.; Liu, X.; Wu, Y.; Bergé-Nguyen,\n",
    " M.; Calmettes, B.; Duguay, C.; Jiang, D.; Merchant, C.J.; Mueller, D.;\n",
    " Selmes, N.; Simis, S.; Spyrakos, E.; Stelzer, K.; Warren, M.; Yesou,\n",
    " H.; Zhang, D. (2022): ESA Lakes Climate Change Initiative (Lakes_cci):\n",
    " Lake products, Version 2.1.0. NERC EDS Centre for Environmental Data\n",
    " Analysis, date of citation.\n",
    " https://dx.doi.org/10.5285/7fc9df8070d34cacab8092e45ef276f1\n",
    " \n",
    "    \n",
    " WARNING: This script is a beta version. All controls on the input parameters\n",
    " are not (yet) available. If you find a bug, have a question or a\n",
    " suggestion, don't hesitate to contact us, it will be much appreciated :\n",
    " cci_lakes.contact@groupcls.com\n",
    "\n",
    " to be executed with python version >= 3.9"
   ]
  },
  {
   "cell_type": "markdown",
   "id": "6f9a10d1",
   "metadata": {},
   "source": [
    "# key variables\n",
    "\n",
    "Lakes_cci dataset is a merged product containing multiple variables from different thematic ECVs. The key variables are as follow:\n",
    "\n",
    "<b>Lake Water Level (LWL):</b>\n",
    "<ul><li>water_surface_height_above_reference_datum</li></ul>\n",
    "\n",
    "<b>Lake Water Extent (LWE):</b>\n",
    "<ul><li>lake_surface_water_extent</li></ul>\n",
    "\n",
    "<b>Lake Ice Cover (LIC):</b>\n",
    "<ul><li>lake_ice_cover_class</li></ul>\n",
    "\n",
    "\n",
    "<b>Lake Surface Water Temperature (LSWT):</b>\n",
    "<ul><li>lake_surface_water_temperature</li></ul>\n",
    "\n",
    "\n",
    "<b>Lake Water Leaving Reflectance (LWLR):</b>\n",
    "<ul><li>chla_mean</li>\n",
    "<li>turbidity_mean</li>\n",
    "<li>Rwxxx with xxx: 400, 412, 443, 469, 490, 510, 531, 547, 560, 620, 645, 665, 674, 681, 709, 754, 779, 859, 885, 900, 1020</li></ul>\n"
   ]
  },
  {
   "cell_type": "code",
   "execution_count": 1,
   "id": "73840e38",
   "metadata": {},
   "outputs": [],
   "source": [
    "import numpy as np\n",
    "import netCDF4 as nc\n",
    "import pandas as pd\n",
    "import datetime\n",
    "import matplotlib.pyplot as plt"
   ]
  },
  {
   "cell_type": "code",
   "execution_count": 2,
   "id": "de058c2e",
   "metadata": {},
   "outputs": [],
   "source": [
    "###########################################################################################\n",
    "# input parameters\n",
    "###########################################################################################   \n",
    "\n",
    "# lakes mask file \n",
    "maskfile = 'ESA_CCI_static_lake_mask_v2.1.nc'\n",
    "\n",
    "# Id for lake Turkana: 22\n",
    "lake_id = 22\n",
    "\n",
    "# variable name\n",
    "varname = 'water_surface_height_above_reference_datum'\n",
    "\n",
    "# defining the period of time in string format: YYYY-MM-DD\n",
    "# dates values must be between 1992-09-26 and 2020-12-31\n",
    "\n",
    "mindate = '2018-07-01'\n",
    "maxdate = '2018-12-31'"
   ]
  },
  {
   "cell_type": "code",
   "execution_count": 3,
   "id": "d9095fe8",
   "metadata": {},
   "outputs": [],
   "source": [
    "# test if dates are in the temporal coverage\n",
    "\n",
    "mindate = datetime.datetime.strptime(mindate, '%Y-%m-%d')\n",
    "maxdate = datetime.datetime.strptime(maxdate, '%Y-%m-%d')\n",
    "mindate = max([mindate, datetime.datetime(1992,9,26)])\n",
    "maxdate = min([maxdate, datetime.datetime(2022,12,31)])\n"
   ]
  },
  {
   "cell_type": "code",
   "execution_count": 4,
   "id": "05feff31",
   "metadata": {},
   "outputs": [
    {
     "name": "stdout",
     "output_type": "stream",
     "text": [
      "ok\n"
     ]
    }
   ],
   "source": [
    "\n",
    "###################################################################\n",
    "# create mask based on lake_id\n",
    "###################################################################\n",
    "mask_nc = nc.Dataset(maskfile)\n",
    "mask = mask_nc.variables['CCI_lakeid'][:]\n",
    "mask_ind  = np.where(mask == lake_id)\n",
    "minx = np.min(mask_ind[1][:]) - 1\n",
    "maxx = np.max(mask_ind[1][:]) + 1\n",
    "miny = np.min(mask_ind[0][:]) - 1\n",
    "maxy = np.max(mask_ind[0][:]) + 1\n",
    "\n",
    "mask_lake = mask[miny:maxy+1, minx:maxx+1]\n",
    "mask_lake[mask_lake!=lake_id] = 0\n",
    "mask_lake[mask_lake == lake_id] = 1\n",
    "mask_nc.close()\n"
   ]
  },
  {
   "cell_type": "markdown",
   "id": "7a123cad",
   "metadata": {},
   "source": [
    "Download process: this can take longtime depending on the selected dates. Each daily file needs to be access to verify if there is (or not) data available for the selected lake."
   ]
  },
  {
   "cell_type": "code",
   "execution_count": 5,
   "id": "375ef058",
   "metadata": {},
   "outputs": [
    {
     "name": "stdout",
     "output_type": "stream",
     "text": [
      "https://data.cci.ceda.ac.uk/thredds/dodsC/esacci/lakes/data/lake_products/L3S/v2.1/merged_product/2018/07/ESACCI-LAKES-L3S-LK_PRODUCTS-MERGED-20180701-fv2.1.0.nc?water_surface_height_above_reference_datum\n",
      "https://data.cci.ceda.ac.uk/thredds/dodsC/esacci/lakes/data/lake_products/L3S/v2.1/merged_product/2018/07/ESACCI-LAKES-L3S-LK_PRODUCTS-MERGED-20180702-fv2.1.0.nc?water_surface_height_above_reference_datum\n",
      "https://data.cci.ceda.ac.uk/thredds/dodsC/esacci/lakes/data/lake_products/L3S/v2.1/merged_product/2018/07/ESACCI-LAKES-L3S-LK_PRODUCTS-MERGED-20180703-fv2.1.0.nc?water_surface_height_above_reference_datum\n",
      "https://data.cci.ceda.ac.uk/thredds/dodsC/esacci/lakes/data/lake_products/L3S/v2.1/merged_product/2018/07/ESACCI-LAKES-L3S-LK_PRODUCTS-MERGED-20180704-fv2.1.0.nc?water_surface_height_above_reference_datum\n",
      "https://data.cci.ceda.ac.uk/thredds/dodsC/esacci/lakes/data/lake_products/L3S/v2.1/merged_product/2018/07/ESACCI-LAKES-L3S-LK_PRODUCTS-MERGED-20180705-fv2.1.0.nc?water_surface_height_above_reference_datum\n",
      "https://data.cci.ceda.ac.uk/thredds/dodsC/esacci/lakes/data/lake_products/L3S/v2.1/merged_product/2018/07/ESACCI-LAKES-L3S-LK_PRODUCTS-MERGED-20180706-fv2.1.0.nc?water_surface_height_above_reference_datum\n",
      "https://data.cci.ceda.ac.uk/thredds/dodsC/esacci/lakes/data/lake_products/L3S/v2.1/merged_product/2018/07/ESACCI-LAKES-L3S-LK_PRODUCTS-MERGED-20180707-fv2.1.0.nc?water_surface_height_above_reference_datum\n",
      "https://data.cci.ceda.ac.uk/thredds/dodsC/esacci/lakes/data/lake_products/L3S/v2.1/merged_product/2018/07/ESACCI-LAKES-L3S-LK_PRODUCTS-MERGED-20180708-fv2.1.0.nc?water_surface_height_above_reference_datum\n",
      "https://data.cci.ceda.ac.uk/thredds/dodsC/esacci/lakes/data/lake_products/L3S/v2.1/merged_product/2018/07/ESACCI-LAKES-L3S-LK_PRODUCTS-MERGED-20180709-fv2.1.0.nc?water_surface_height_above_reference_datum\n",
      "https://data.cci.ceda.ac.uk/thredds/dodsC/esacci/lakes/data/lake_products/L3S/v2.1/merged_product/2018/07/ESACCI-LAKES-L3S-LK_PRODUCTS-MERGED-20180710-fv2.1.0.nc?water_surface_height_above_reference_datum\n",
      "https://data.cci.ceda.ac.uk/thredds/dodsC/esacci/lakes/data/lake_products/L3S/v2.1/merged_product/2018/07/ESACCI-LAKES-L3S-LK_PRODUCTS-MERGED-20180711-fv2.1.0.nc?water_surface_height_above_reference_datum\n",
      "https://data.cci.ceda.ac.uk/thredds/dodsC/esacci/lakes/data/lake_products/L3S/v2.1/merged_product/2018/07/ESACCI-LAKES-L3S-LK_PRODUCTS-MERGED-20180712-fv2.1.0.nc?water_surface_height_above_reference_datum\n",
      "https://data.cci.ceda.ac.uk/thredds/dodsC/esacci/lakes/data/lake_products/L3S/v2.1/merged_product/2018/07/ESACCI-LAKES-L3S-LK_PRODUCTS-MERGED-20180713-fv2.1.0.nc?water_surface_height_above_reference_datum\n",
      "https://data.cci.ceda.ac.uk/thredds/dodsC/esacci/lakes/data/lake_products/L3S/v2.1/merged_product/2018/07/ESACCI-LAKES-L3S-LK_PRODUCTS-MERGED-20180714-fv2.1.0.nc?water_surface_height_above_reference_datum\n",
      "https://data.cci.ceda.ac.uk/thredds/dodsC/esacci/lakes/data/lake_products/L3S/v2.1/merged_product/2018/07/ESACCI-LAKES-L3S-LK_PRODUCTS-MERGED-20180715-fv2.1.0.nc?water_surface_height_above_reference_datum\n",
      "https://data.cci.ceda.ac.uk/thredds/dodsC/esacci/lakes/data/lake_products/L3S/v2.1/merged_product/2018/07/ESACCI-LAKES-L3S-LK_PRODUCTS-MERGED-20180716-fv2.1.0.nc?water_surface_height_above_reference_datum\n",
      "https://data.cci.ceda.ac.uk/thredds/dodsC/esacci/lakes/data/lake_products/L3S/v2.1/merged_product/2018/07/ESACCI-LAKES-L3S-LK_PRODUCTS-MERGED-20180717-fv2.1.0.nc?water_surface_height_above_reference_datum\n",
      "https://data.cci.ceda.ac.uk/thredds/dodsC/esacci/lakes/data/lake_products/L3S/v2.1/merged_product/2018/07/ESACCI-LAKES-L3S-LK_PRODUCTS-MERGED-20180718-fv2.1.0.nc?water_surface_height_above_reference_datum\n",
      "https://data.cci.ceda.ac.uk/thredds/dodsC/esacci/lakes/data/lake_products/L3S/v2.1/merged_product/2018/07/ESACCI-LAKES-L3S-LK_PRODUCTS-MERGED-20180719-fv2.1.0.nc?water_surface_height_above_reference_datum\n",
      "https://data.cci.ceda.ac.uk/thredds/dodsC/esacci/lakes/data/lake_products/L3S/v2.1/merged_product/2018/07/ESACCI-LAKES-L3S-LK_PRODUCTS-MERGED-20180720-fv2.1.0.nc?water_surface_height_above_reference_datum\n",
      "https://data.cci.ceda.ac.uk/thredds/dodsC/esacci/lakes/data/lake_products/L3S/v2.1/merged_product/2018/07/ESACCI-LAKES-L3S-LK_PRODUCTS-MERGED-20180721-fv2.1.0.nc?water_surface_height_above_reference_datum\n",
      "https://data.cci.ceda.ac.uk/thredds/dodsC/esacci/lakes/data/lake_products/L3S/v2.1/merged_product/2018/07/ESACCI-LAKES-L3S-LK_PRODUCTS-MERGED-20180722-fv2.1.0.nc?water_surface_height_above_reference_datum\n",
      "https://data.cci.ceda.ac.uk/thredds/dodsC/esacci/lakes/data/lake_products/L3S/v2.1/merged_product/2018/07/ESACCI-LAKES-L3S-LK_PRODUCTS-MERGED-20180723-fv2.1.0.nc?water_surface_height_above_reference_datum\n",
      "https://data.cci.ceda.ac.uk/thredds/dodsC/esacci/lakes/data/lake_products/L3S/v2.1/merged_product/2018/07/ESACCI-LAKES-L3S-LK_PRODUCTS-MERGED-20180724-fv2.1.0.nc?water_surface_height_above_reference_datum\n",
      "https://data.cci.ceda.ac.uk/thredds/dodsC/esacci/lakes/data/lake_products/L3S/v2.1/merged_product/2018/07/ESACCI-LAKES-L3S-LK_PRODUCTS-MERGED-20180725-fv2.1.0.nc?water_surface_height_above_reference_datum\n",
      "https://data.cci.ceda.ac.uk/thredds/dodsC/esacci/lakes/data/lake_products/L3S/v2.1/merged_product/2018/07/ESACCI-LAKES-L3S-LK_PRODUCTS-MERGED-20180726-fv2.1.0.nc?water_surface_height_above_reference_datum\n",
      "https://data.cci.ceda.ac.uk/thredds/dodsC/esacci/lakes/data/lake_products/L3S/v2.1/merged_product/2018/07/ESACCI-LAKES-L3S-LK_PRODUCTS-MERGED-20180727-fv2.1.0.nc?water_surface_height_above_reference_datum\n",
      "https://data.cci.ceda.ac.uk/thredds/dodsC/esacci/lakes/data/lake_products/L3S/v2.1/merged_product/2018/07/ESACCI-LAKES-L3S-LK_PRODUCTS-MERGED-20180728-fv2.1.0.nc?water_surface_height_above_reference_datum\n",
      "https://data.cci.ceda.ac.uk/thredds/dodsC/esacci/lakes/data/lake_products/L3S/v2.1/merged_product/2018/07/ESACCI-LAKES-L3S-LK_PRODUCTS-MERGED-20180729-fv2.1.0.nc?water_surface_height_above_reference_datum\n",
      "https://data.cci.ceda.ac.uk/thredds/dodsC/esacci/lakes/data/lake_products/L3S/v2.1/merged_product/2018/07/ESACCI-LAKES-L3S-LK_PRODUCTS-MERGED-20180730-fv2.1.0.nc?water_surface_height_above_reference_datum\n",
      "https://data.cci.ceda.ac.uk/thredds/dodsC/esacci/lakes/data/lake_products/L3S/v2.1/merged_product/2018/07/ESACCI-LAKES-L3S-LK_PRODUCTS-MERGED-20180731-fv2.1.0.nc?water_surface_height_above_reference_datum\n",
      "https://data.cci.ceda.ac.uk/thredds/dodsC/esacci/lakes/data/lake_products/L3S/v2.1/merged_product/2018/08/ESACCI-LAKES-L3S-LK_PRODUCTS-MERGED-20180801-fv2.1.0.nc?water_surface_height_above_reference_datum\n",
      "https://data.cci.ceda.ac.uk/thredds/dodsC/esacci/lakes/data/lake_products/L3S/v2.1/merged_product/2018/08/ESACCI-LAKES-L3S-LK_PRODUCTS-MERGED-20180802-fv2.1.0.nc?water_surface_height_above_reference_datum\n",
      "https://data.cci.ceda.ac.uk/thredds/dodsC/esacci/lakes/data/lake_products/L3S/v2.1/merged_product/2018/08/ESACCI-LAKES-L3S-LK_PRODUCTS-MERGED-20180803-fv2.1.0.nc?water_surface_height_above_reference_datum\n",
      "https://data.cci.ceda.ac.uk/thredds/dodsC/esacci/lakes/data/lake_products/L3S/v2.1/merged_product/2018/08/ESACCI-LAKES-L3S-LK_PRODUCTS-MERGED-20180804-fv2.1.0.nc?water_surface_height_above_reference_datum\n",
      "https://data.cci.ceda.ac.uk/thredds/dodsC/esacci/lakes/data/lake_products/L3S/v2.1/merged_product/2018/08/ESACCI-LAKES-L3S-LK_PRODUCTS-MERGED-20180805-fv2.1.0.nc?water_surface_height_above_reference_datum\n",
      "https://data.cci.ceda.ac.uk/thredds/dodsC/esacci/lakes/data/lake_products/L3S/v2.1/merged_product/2018/08/ESACCI-LAKES-L3S-LK_PRODUCTS-MERGED-20180806-fv2.1.0.nc?water_surface_height_above_reference_datum\n",
      "https://data.cci.ceda.ac.uk/thredds/dodsC/esacci/lakes/data/lake_products/L3S/v2.1/merged_product/2018/08/ESACCI-LAKES-L3S-LK_PRODUCTS-MERGED-20180807-fv2.1.0.nc?water_surface_height_above_reference_datum\n",
      "https://data.cci.ceda.ac.uk/thredds/dodsC/esacci/lakes/data/lake_products/L3S/v2.1/merged_product/2018/08/ESACCI-LAKES-L3S-LK_PRODUCTS-MERGED-20180808-fv2.1.0.nc?water_surface_height_above_reference_datum\n",
      "https://data.cci.ceda.ac.uk/thredds/dodsC/esacci/lakes/data/lake_products/L3S/v2.1/merged_product/2018/08/ESACCI-LAKES-L3S-LK_PRODUCTS-MERGED-20180809-fv2.1.0.nc?water_surface_height_above_reference_datum\n",
      "https://data.cci.ceda.ac.uk/thredds/dodsC/esacci/lakes/data/lake_products/L3S/v2.1/merged_product/2018/08/ESACCI-LAKES-L3S-LK_PRODUCTS-MERGED-20180810-fv2.1.0.nc?water_surface_height_above_reference_datum\n"
     ]
    },
    {
     "name": "stdout",
     "output_type": "stream",
     "text": [
      "https://data.cci.ceda.ac.uk/thredds/dodsC/esacci/lakes/data/lake_products/L3S/v2.1/merged_product/2018/08/ESACCI-LAKES-L3S-LK_PRODUCTS-MERGED-20180811-fv2.1.0.nc?water_surface_height_above_reference_datum\n",
      "https://data.cci.ceda.ac.uk/thredds/dodsC/esacci/lakes/data/lake_products/L3S/v2.1/merged_product/2018/08/ESACCI-LAKES-L3S-LK_PRODUCTS-MERGED-20180812-fv2.1.0.nc?water_surface_height_above_reference_datum\n",
      "https://data.cci.ceda.ac.uk/thredds/dodsC/esacci/lakes/data/lake_products/L3S/v2.1/merged_product/2018/08/ESACCI-LAKES-L3S-LK_PRODUCTS-MERGED-20180813-fv2.1.0.nc?water_surface_height_above_reference_datum\n",
      "https://data.cci.ceda.ac.uk/thredds/dodsC/esacci/lakes/data/lake_products/L3S/v2.1/merged_product/2018/08/ESACCI-LAKES-L3S-LK_PRODUCTS-MERGED-20180814-fv2.1.0.nc?water_surface_height_above_reference_datum\n",
      "https://data.cci.ceda.ac.uk/thredds/dodsC/esacci/lakes/data/lake_products/L3S/v2.1/merged_product/2018/08/ESACCI-LAKES-L3S-LK_PRODUCTS-MERGED-20180815-fv2.1.0.nc?water_surface_height_above_reference_datum\n",
      "https://data.cci.ceda.ac.uk/thredds/dodsC/esacci/lakes/data/lake_products/L3S/v2.1/merged_product/2018/08/ESACCI-LAKES-L3S-LK_PRODUCTS-MERGED-20180816-fv2.1.0.nc?water_surface_height_above_reference_datum\n",
      "https://data.cci.ceda.ac.uk/thredds/dodsC/esacci/lakes/data/lake_products/L3S/v2.1/merged_product/2018/08/ESACCI-LAKES-L3S-LK_PRODUCTS-MERGED-20180817-fv2.1.0.nc?water_surface_height_above_reference_datum\n",
      "https://data.cci.ceda.ac.uk/thredds/dodsC/esacci/lakes/data/lake_products/L3S/v2.1/merged_product/2018/08/ESACCI-LAKES-L3S-LK_PRODUCTS-MERGED-20180818-fv2.1.0.nc?water_surface_height_above_reference_datum\n",
      "https://data.cci.ceda.ac.uk/thredds/dodsC/esacci/lakes/data/lake_products/L3S/v2.1/merged_product/2018/08/ESACCI-LAKES-L3S-LK_PRODUCTS-MERGED-20180819-fv2.1.0.nc?water_surface_height_above_reference_datum\n",
      "https://data.cci.ceda.ac.uk/thredds/dodsC/esacci/lakes/data/lake_products/L3S/v2.1/merged_product/2018/08/ESACCI-LAKES-L3S-LK_PRODUCTS-MERGED-20180820-fv2.1.0.nc?water_surface_height_above_reference_datum\n",
      "https://data.cci.ceda.ac.uk/thredds/dodsC/esacci/lakes/data/lake_products/L3S/v2.1/merged_product/2018/08/ESACCI-LAKES-L3S-LK_PRODUCTS-MERGED-20180821-fv2.1.0.nc?water_surface_height_above_reference_datum\n",
      "https://data.cci.ceda.ac.uk/thredds/dodsC/esacci/lakes/data/lake_products/L3S/v2.1/merged_product/2018/08/ESACCI-LAKES-L3S-LK_PRODUCTS-MERGED-20180822-fv2.1.0.nc?water_surface_height_above_reference_datum\n",
      "https://data.cci.ceda.ac.uk/thredds/dodsC/esacci/lakes/data/lake_products/L3S/v2.1/merged_product/2018/08/ESACCI-LAKES-L3S-LK_PRODUCTS-MERGED-20180823-fv2.1.0.nc?water_surface_height_above_reference_datum\n",
      "https://data.cci.ceda.ac.uk/thredds/dodsC/esacci/lakes/data/lake_products/L3S/v2.1/merged_product/2018/08/ESACCI-LAKES-L3S-LK_PRODUCTS-MERGED-20180824-fv2.1.0.nc?water_surface_height_above_reference_datum\n",
      "https://data.cci.ceda.ac.uk/thredds/dodsC/esacci/lakes/data/lake_products/L3S/v2.1/merged_product/2018/08/ESACCI-LAKES-L3S-LK_PRODUCTS-MERGED-20180825-fv2.1.0.nc?water_surface_height_above_reference_datum\n",
      "https://data.cci.ceda.ac.uk/thredds/dodsC/esacci/lakes/data/lake_products/L3S/v2.1/merged_product/2018/08/ESACCI-LAKES-L3S-LK_PRODUCTS-MERGED-20180826-fv2.1.0.nc?water_surface_height_above_reference_datum\n",
      "https://data.cci.ceda.ac.uk/thredds/dodsC/esacci/lakes/data/lake_products/L3S/v2.1/merged_product/2018/08/ESACCI-LAKES-L3S-LK_PRODUCTS-MERGED-20180827-fv2.1.0.nc?water_surface_height_above_reference_datum\n",
      "https://data.cci.ceda.ac.uk/thredds/dodsC/esacci/lakes/data/lake_products/L3S/v2.1/merged_product/2018/08/ESACCI-LAKES-L3S-LK_PRODUCTS-MERGED-20180828-fv2.1.0.nc?water_surface_height_above_reference_datum\n",
      "https://data.cci.ceda.ac.uk/thredds/dodsC/esacci/lakes/data/lake_products/L3S/v2.1/merged_product/2018/08/ESACCI-LAKES-L3S-LK_PRODUCTS-MERGED-20180829-fv2.1.0.nc?water_surface_height_above_reference_datum\n",
      "https://data.cci.ceda.ac.uk/thredds/dodsC/esacci/lakes/data/lake_products/L3S/v2.1/merged_product/2018/08/ESACCI-LAKES-L3S-LK_PRODUCTS-MERGED-20180830-fv2.1.0.nc?water_surface_height_above_reference_datum\n",
      "https://data.cci.ceda.ac.uk/thredds/dodsC/esacci/lakes/data/lake_products/L3S/v2.1/merged_product/2018/08/ESACCI-LAKES-L3S-LK_PRODUCTS-MERGED-20180831-fv2.1.0.nc?water_surface_height_above_reference_datum\n",
      "https://data.cci.ceda.ac.uk/thredds/dodsC/esacci/lakes/data/lake_products/L3S/v2.1/merged_product/2018/09/ESACCI-LAKES-L3S-LK_PRODUCTS-MERGED-20180901-fv2.1.0.nc?water_surface_height_above_reference_datum\n",
      "https://data.cci.ceda.ac.uk/thredds/dodsC/esacci/lakes/data/lake_products/L3S/v2.1/merged_product/2018/09/ESACCI-LAKES-L3S-LK_PRODUCTS-MERGED-20180902-fv2.1.0.nc?water_surface_height_above_reference_datum\n",
      "https://data.cci.ceda.ac.uk/thredds/dodsC/esacci/lakes/data/lake_products/L3S/v2.1/merged_product/2018/09/ESACCI-LAKES-L3S-LK_PRODUCTS-MERGED-20180903-fv2.1.0.nc?water_surface_height_above_reference_datum\n",
      "https://data.cci.ceda.ac.uk/thredds/dodsC/esacci/lakes/data/lake_products/L3S/v2.1/merged_product/2018/09/ESACCI-LAKES-L3S-LK_PRODUCTS-MERGED-20180904-fv2.1.0.nc?water_surface_height_above_reference_datum\n",
      "https://data.cci.ceda.ac.uk/thredds/dodsC/esacci/lakes/data/lake_products/L3S/v2.1/merged_product/2018/09/ESACCI-LAKES-L3S-LK_PRODUCTS-MERGED-20180905-fv2.1.0.nc?water_surface_height_above_reference_datum\n",
      "https://data.cci.ceda.ac.uk/thredds/dodsC/esacci/lakes/data/lake_products/L3S/v2.1/merged_product/2018/09/ESACCI-LAKES-L3S-LK_PRODUCTS-MERGED-20180906-fv2.1.0.nc?water_surface_height_above_reference_datum\n",
      "https://data.cci.ceda.ac.uk/thredds/dodsC/esacci/lakes/data/lake_products/L3S/v2.1/merged_product/2018/09/ESACCI-LAKES-L3S-LK_PRODUCTS-MERGED-20180907-fv2.1.0.nc?water_surface_height_above_reference_datum\n",
      "https://data.cci.ceda.ac.uk/thredds/dodsC/esacci/lakes/data/lake_products/L3S/v2.1/merged_product/2018/09/ESACCI-LAKES-L3S-LK_PRODUCTS-MERGED-20180908-fv2.1.0.nc?water_surface_height_above_reference_datum\n",
      "https://data.cci.ceda.ac.uk/thredds/dodsC/esacci/lakes/data/lake_products/L3S/v2.1/merged_product/2018/09/ESACCI-LAKES-L3S-LK_PRODUCTS-MERGED-20180909-fv2.1.0.nc?water_surface_height_above_reference_datum\n",
      "https://data.cci.ceda.ac.uk/thredds/dodsC/esacci/lakes/data/lake_products/L3S/v2.1/merged_product/2018/09/ESACCI-LAKES-L3S-LK_PRODUCTS-MERGED-20180910-fv2.1.0.nc?water_surface_height_above_reference_datum\n",
      "https://data.cci.ceda.ac.uk/thredds/dodsC/esacci/lakes/data/lake_products/L3S/v2.1/merged_product/2018/09/ESACCI-LAKES-L3S-LK_PRODUCTS-MERGED-20180911-fv2.1.0.nc?water_surface_height_above_reference_datum\n",
      "https://data.cci.ceda.ac.uk/thredds/dodsC/esacci/lakes/data/lake_products/L3S/v2.1/merged_product/2018/09/ESACCI-LAKES-L3S-LK_PRODUCTS-MERGED-20180912-fv2.1.0.nc?water_surface_height_above_reference_datum\n",
      "https://data.cci.ceda.ac.uk/thredds/dodsC/esacci/lakes/data/lake_products/L3S/v2.1/merged_product/2018/09/ESACCI-LAKES-L3S-LK_PRODUCTS-MERGED-20180913-fv2.1.0.nc?water_surface_height_above_reference_datum\n",
      "https://data.cci.ceda.ac.uk/thredds/dodsC/esacci/lakes/data/lake_products/L3S/v2.1/merged_product/2018/09/ESACCI-LAKES-L3S-LK_PRODUCTS-MERGED-20180914-fv2.1.0.nc?water_surface_height_above_reference_datum\n",
      "https://data.cci.ceda.ac.uk/thredds/dodsC/esacci/lakes/data/lake_products/L3S/v2.1/merged_product/2018/09/ESACCI-LAKES-L3S-LK_PRODUCTS-MERGED-20180915-fv2.1.0.nc?water_surface_height_above_reference_datum\n",
      "https://data.cci.ceda.ac.uk/thredds/dodsC/esacci/lakes/data/lake_products/L3S/v2.1/merged_product/2018/09/ESACCI-LAKES-L3S-LK_PRODUCTS-MERGED-20180916-fv2.1.0.nc?water_surface_height_above_reference_datum\n",
      "https://data.cci.ceda.ac.uk/thredds/dodsC/esacci/lakes/data/lake_products/L3S/v2.1/merged_product/2018/09/ESACCI-LAKES-L3S-LK_PRODUCTS-MERGED-20180917-fv2.1.0.nc?water_surface_height_above_reference_datum\n",
      "https://data.cci.ceda.ac.uk/thredds/dodsC/esacci/lakes/data/lake_products/L3S/v2.1/merged_product/2018/09/ESACCI-LAKES-L3S-LK_PRODUCTS-MERGED-20180918-fv2.1.0.nc?water_surface_height_above_reference_datum\n",
      "https://data.cci.ceda.ac.uk/thredds/dodsC/esacci/lakes/data/lake_products/L3S/v2.1/merged_product/2018/09/ESACCI-LAKES-L3S-LK_PRODUCTS-MERGED-20180919-fv2.1.0.nc?water_surface_height_above_reference_datum\n",
      "https://data.cci.ceda.ac.uk/thredds/dodsC/esacci/lakes/data/lake_products/L3S/v2.1/merged_product/2018/09/ESACCI-LAKES-L3S-LK_PRODUCTS-MERGED-20180920-fv2.1.0.nc?water_surface_height_above_reference_datum\n"
     ]
    },
    {
     "name": "stdout",
     "output_type": "stream",
     "text": [
      "https://data.cci.ceda.ac.uk/thredds/dodsC/esacci/lakes/data/lake_products/L3S/v2.1/merged_product/2018/09/ESACCI-LAKES-L3S-LK_PRODUCTS-MERGED-20180921-fv2.1.0.nc?water_surface_height_above_reference_datum\n",
      "https://data.cci.ceda.ac.uk/thredds/dodsC/esacci/lakes/data/lake_products/L3S/v2.1/merged_product/2018/09/ESACCI-LAKES-L3S-LK_PRODUCTS-MERGED-20180922-fv2.1.0.nc?water_surface_height_above_reference_datum\n",
      "https://data.cci.ceda.ac.uk/thredds/dodsC/esacci/lakes/data/lake_products/L3S/v2.1/merged_product/2018/09/ESACCI-LAKES-L3S-LK_PRODUCTS-MERGED-20180923-fv2.1.0.nc?water_surface_height_above_reference_datum\n",
      "https://data.cci.ceda.ac.uk/thredds/dodsC/esacci/lakes/data/lake_products/L3S/v2.1/merged_product/2018/09/ESACCI-LAKES-L3S-LK_PRODUCTS-MERGED-20180924-fv2.1.0.nc?water_surface_height_above_reference_datum\n",
      "https://data.cci.ceda.ac.uk/thredds/dodsC/esacci/lakes/data/lake_products/L3S/v2.1/merged_product/2018/09/ESACCI-LAKES-L3S-LK_PRODUCTS-MERGED-20180925-fv2.1.0.nc?water_surface_height_above_reference_datum\n",
      "https://data.cci.ceda.ac.uk/thredds/dodsC/esacci/lakes/data/lake_products/L3S/v2.1/merged_product/2018/09/ESACCI-LAKES-L3S-LK_PRODUCTS-MERGED-20180926-fv2.1.0.nc?water_surface_height_above_reference_datum\n",
      "https://data.cci.ceda.ac.uk/thredds/dodsC/esacci/lakes/data/lake_products/L3S/v2.1/merged_product/2018/09/ESACCI-LAKES-L3S-LK_PRODUCTS-MERGED-20180927-fv2.1.0.nc?water_surface_height_above_reference_datum\n",
      "https://data.cci.ceda.ac.uk/thredds/dodsC/esacci/lakes/data/lake_products/L3S/v2.1/merged_product/2018/09/ESACCI-LAKES-L3S-LK_PRODUCTS-MERGED-20180928-fv2.1.0.nc?water_surface_height_above_reference_datum\n",
      "https://data.cci.ceda.ac.uk/thredds/dodsC/esacci/lakes/data/lake_products/L3S/v2.1/merged_product/2018/09/ESACCI-LAKES-L3S-LK_PRODUCTS-MERGED-20180929-fv2.1.0.nc?water_surface_height_above_reference_datum\n",
      "https://data.cci.ceda.ac.uk/thredds/dodsC/esacci/lakes/data/lake_products/L3S/v2.1/merged_product/2018/09/ESACCI-LAKES-L3S-LK_PRODUCTS-MERGED-20180930-fv2.1.0.nc?water_surface_height_above_reference_datum\n",
      "https://data.cci.ceda.ac.uk/thredds/dodsC/esacci/lakes/data/lake_products/L3S/v2.1/merged_product/2018/10/ESACCI-LAKES-L3S-LK_PRODUCTS-MERGED-20181001-fv2.1.0.nc?water_surface_height_above_reference_datum\n",
      "https://data.cci.ceda.ac.uk/thredds/dodsC/esacci/lakes/data/lake_products/L3S/v2.1/merged_product/2018/10/ESACCI-LAKES-L3S-LK_PRODUCTS-MERGED-20181002-fv2.1.0.nc?water_surface_height_above_reference_datum\n",
      "https://data.cci.ceda.ac.uk/thredds/dodsC/esacci/lakes/data/lake_products/L3S/v2.1/merged_product/2018/10/ESACCI-LAKES-L3S-LK_PRODUCTS-MERGED-20181003-fv2.1.0.nc?water_surface_height_above_reference_datum\n",
      "https://data.cci.ceda.ac.uk/thredds/dodsC/esacci/lakes/data/lake_products/L3S/v2.1/merged_product/2018/10/ESACCI-LAKES-L3S-LK_PRODUCTS-MERGED-20181004-fv2.1.0.nc?water_surface_height_above_reference_datum\n",
      "https://data.cci.ceda.ac.uk/thredds/dodsC/esacci/lakes/data/lake_products/L3S/v2.1/merged_product/2018/10/ESACCI-LAKES-L3S-LK_PRODUCTS-MERGED-20181005-fv2.1.0.nc?water_surface_height_above_reference_datum\n",
      "https://data.cci.ceda.ac.uk/thredds/dodsC/esacci/lakes/data/lake_products/L3S/v2.1/merged_product/2018/10/ESACCI-LAKES-L3S-LK_PRODUCTS-MERGED-20181006-fv2.1.0.nc?water_surface_height_above_reference_datum\n",
      "https://data.cci.ceda.ac.uk/thredds/dodsC/esacci/lakes/data/lake_products/L3S/v2.1/merged_product/2018/10/ESACCI-LAKES-L3S-LK_PRODUCTS-MERGED-20181007-fv2.1.0.nc?water_surface_height_above_reference_datum\n",
      "https://data.cci.ceda.ac.uk/thredds/dodsC/esacci/lakes/data/lake_products/L3S/v2.1/merged_product/2018/10/ESACCI-LAKES-L3S-LK_PRODUCTS-MERGED-20181008-fv2.1.0.nc?water_surface_height_above_reference_datum\n",
      "https://data.cci.ceda.ac.uk/thredds/dodsC/esacci/lakes/data/lake_products/L3S/v2.1/merged_product/2018/10/ESACCI-LAKES-L3S-LK_PRODUCTS-MERGED-20181009-fv2.1.0.nc?water_surface_height_above_reference_datum\n",
      "https://data.cci.ceda.ac.uk/thredds/dodsC/esacci/lakes/data/lake_products/L3S/v2.1/merged_product/2018/10/ESACCI-LAKES-L3S-LK_PRODUCTS-MERGED-20181010-fv2.1.0.nc?water_surface_height_above_reference_datum\n",
      "https://data.cci.ceda.ac.uk/thredds/dodsC/esacci/lakes/data/lake_products/L3S/v2.1/merged_product/2018/10/ESACCI-LAKES-L3S-LK_PRODUCTS-MERGED-20181011-fv2.1.0.nc?water_surface_height_above_reference_datum\n",
      "https://data.cci.ceda.ac.uk/thredds/dodsC/esacci/lakes/data/lake_products/L3S/v2.1/merged_product/2018/10/ESACCI-LAKES-L3S-LK_PRODUCTS-MERGED-20181012-fv2.1.0.nc?water_surface_height_above_reference_datum\n",
      "https://data.cci.ceda.ac.uk/thredds/dodsC/esacci/lakes/data/lake_products/L3S/v2.1/merged_product/2018/10/ESACCI-LAKES-L3S-LK_PRODUCTS-MERGED-20181013-fv2.1.0.nc?water_surface_height_above_reference_datum\n",
      "https://data.cci.ceda.ac.uk/thredds/dodsC/esacci/lakes/data/lake_products/L3S/v2.1/merged_product/2018/10/ESACCI-LAKES-L3S-LK_PRODUCTS-MERGED-20181014-fv2.1.0.nc?water_surface_height_above_reference_datum\n",
      "https://data.cci.ceda.ac.uk/thredds/dodsC/esacci/lakes/data/lake_products/L3S/v2.1/merged_product/2018/10/ESACCI-LAKES-L3S-LK_PRODUCTS-MERGED-20181015-fv2.1.0.nc?water_surface_height_above_reference_datum\n",
      "https://data.cci.ceda.ac.uk/thredds/dodsC/esacci/lakes/data/lake_products/L3S/v2.1/merged_product/2018/10/ESACCI-LAKES-L3S-LK_PRODUCTS-MERGED-20181016-fv2.1.0.nc?water_surface_height_above_reference_datum\n",
      "https://data.cci.ceda.ac.uk/thredds/dodsC/esacci/lakes/data/lake_products/L3S/v2.1/merged_product/2018/10/ESACCI-LAKES-L3S-LK_PRODUCTS-MERGED-20181017-fv2.1.0.nc?water_surface_height_above_reference_datum\n",
      "https://data.cci.ceda.ac.uk/thredds/dodsC/esacci/lakes/data/lake_products/L3S/v2.1/merged_product/2018/10/ESACCI-LAKES-L3S-LK_PRODUCTS-MERGED-20181018-fv2.1.0.nc?water_surface_height_above_reference_datum\n",
      "https://data.cci.ceda.ac.uk/thredds/dodsC/esacci/lakes/data/lake_products/L3S/v2.1/merged_product/2018/10/ESACCI-LAKES-L3S-LK_PRODUCTS-MERGED-20181019-fv2.1.0.nc?water_surface_height_above_reference_datum\n",
      "https://data.cci.ceda.ac.uk/thredds/dodsC/esacci/lakes/data/lake_products/L3S/v2.1/merged_product/2018/10/ESACCI-LAKES-L3S-LK_PRODUCTS-MERGED-20181020-fv2.1.0.nc?water_surface_height_above_reference_datum\n",
      "https://data.cci.ceda.ac.uk/thredds/dodsC/esacci/lakes/data/lake_products/L3S/v2.1/merged_product/2018/10/ESACCI-LAKES-L3S-LK_PRODUCTS-MERGED-20181021-fv2.1.0.nc?water_surface_height_above_reference_datum\n",
      "https://data.cci.ceda.ac.uk/thredds/dodsC/esacci/lakes/data/lake_products/L3S/v2.1/merged_product/2018/10/ESACCI-LAKES-L3S-LK_PRODUCTS-MERGED-20181022-fv2.1.0.nc?water_surface_height_above_reference_datum\n",
      "https://data.cci.ceda.ac.uk/thredds/dodsC/esacci/lakes/data/lake_products/L3S/v2.1/merged_product/2018/10/ESACCI-LAKES-L3S-LK_PRODUCTS-MERGED-20181023-fv2.1.0.nc?water_surface_height_above_reference_datum\n",
      "https://data.cci.ceda.ac.uk/thredds/dodsC/esacci/lakes/data/lake_products/L3S/v2.1/merged_product/2018/10/ESACCI-LAKES-L3S-LK_PRODUCTS-MERGED-20181024-fv2.1.0.nc?water_surface_height_above_reference_datum\n",
      "https://data.cci.ceda.ac.uk/thredds/dodsC/esacci/lakes/data/lake_products/L3S/v2.1/merged_product/2018/10/ESACCI-LAKES-L3S-LK_PRODUCTS-MERGED-20181025-fv2.1.0.nc?water_surface_height_above_reference_datum\n",
      "https://data.cci.ceda.ac.uk/thredds/dodsC/esacci/lakes/data/lake_products/L3S/v2.1/merged_product/2018/10/ESACCI-LAKES-L3S-LK_PRODUCTS-MERGED-20181026-fv2.1.0.nc?water_surface_height_above_reference_datum\n",
      "https://data.cci.ceda.ac.uk/thredds/dodsC/esacci/lakes/data/lake_products/L3S/v2.1/merged_product/2018/10/ESACCI-LAKES-L3S-LK_PRODUCTS-MERGED-20181027-fv2.1.0.nc?water_surface_height_above_reference_datum\n",
      "https://data.cci.ceda.ac.uk/thredds/dodsC/esacci/lakes/data/lake_products/L3S/v2.1/merged_product/2018/10/ESACCI-LAKES-L3S-LK_PRODUCTS-MERGED-20181028-fv2.1.0.nc?water_surface_height_above_reference_datum\n",
      "https://data.cci.ceda.ac.uk/thredds/dodsC/esacci/lakes/data/lake_products/L3S/v2.1/merged_product/2018/10/ESACCI-LAKES-L3S-LK_PRODUCTS-MERGED-20181029-fv2.1.0.nc?water_surface_height_above_reference_datum\n",
      "https://data.cci.ceda.ac.uk/thredds/dodsC/esacci/lakes/data/lake_products/L3S/v2.1/merged_product/2018/10/ESACCI-LAKES-L3S-LK_PRODUCTS-MERGED-20181030-fv2.1.0.nc?water_surface_height_above_reference_datum\n"
     ]
    },
    {
     "name": "stdout",
     "output_type": "stream",
     "text": [
      "https://data.cci.ceda.ac.uk/thredds/dodsC/esacci/lakes/data/lake_products/L3S/v2.1/merged_product/2018/10/ESACCI-LAKES-L3S-LK_PRODUCTS-MERGED-20181031-fv2.1.0.nc?water_surface_height_above_reference_datum\n",
      "https://data.cci.ceda.ac.uk/thredds/dodsC/esacci/lakes/data/lake_products/L3S/v2.1/merged_product/2018/11/ESACCI-LAKES-L3S-LK_PRODUCTS-MERGED-20181101-fv2.1.0.nc?water_surface_height_above_reference_datum\n",
      "https://data.cci.ceda.ac.uk/thredds/dodsC/esacci/lakes/data/lake_products/L3S/v2.1/merged_product/2018/11/ESACCI-LAKES-L3S-LK_PRODUCTS-MERGED-20181102-fv2.1.0.nc?water_surface_height_above_reference_datum\n",
      "https://data.cci.ceda.ac.uk/thredds/dodsC/esacci/lakes/data/lake_products/L3S/v2.1/merged_product/2018/11/ESACCI-LAKES-L3S-LK_PRODUCTS-MERGED-20181103-fv2.1.0.nc?water_surface_height_above_reference_datum\n",
      "https://data.cci.ceda.ac.uk/thredds/dodsC/esacci/lakes/data/lake_products/L3S/v2.1/merged_product/2018/11/ESACCI-LAKES-L3S-LK_PRODUCTS-MERGED-20181104-fv2.1.0.nc?water_surface_height_above_reference_datum\n",
      "https://data.cci.ceda.ac.uk/thredds/dodsC/esacci/lakes/data/lake_products/L3S/v2.1/merged_product/2018/11/ESACCI-LAKES-L3S-LK_PRODUCTS-MERGED-20181105-fv2.1.0.nc?water_surface_height_above_reference_datum\n",
      "https://data.cci.ceda.ac.uk/thredds/dodsC/esacci/lakes/data/lake_products/L3S/v2.1/merged_product/2018/11/ESACCI-LAKES-L3S-LK_PRODUCTS-MERGED-20181106-fv2.1.0.nc?water_surface_height_above_reference_datum\n",
      "https://data.cci.ceda.ac.uk/thredds/dodsC/esacci/lakes/data/lake_products/L3S/v2.1/merged_product/2018/11/ESACCI-LAKES-L3S-LK_PRODUCTS-MERGED-20181107-fv2.1.0.nc?water_surface_height_above_reference_datum\n",
      "https://data.cci.ceda.ac.uk/thredds/dodsC/esacci/lakes/data/lake_products/L3S/v2.1/merged_product/2018/11/ESACCI-LAKES-L3S-LK_PRODUCTS-MERGED-20181108-fv2.1.0.nc?water_surface_height_above_reference_datum\n",
      "https://data.cci.ceda.ac.uk/thredds/dodsC/esacci/lakes/data/lake_products/L3S/v2.1/merged_product/2018/11/ESACCI-LAKES-L3S-LK_PRODUCTS-MERGED-20181109-fv2.1.0.nc?water_surface_height_above_reference_datum\n",
      "https://data.cci.ceda.ac.uk/thredds/dodsC/esacci/lakes/data/lake_products/L3S/v2.1/merged_product/2018/11/ESACCI-LAKES-L3S-LK_PRODUCTS-MERGED-20181110-fv2.1.0.nc?water_surface_height_above_reference_datum\n",
      "https://data.cci.ceda.ac.uk/thredds/dodsC/esacci/lakes/data/lake_products/L3S/v2.1/merged_product/2018/11/ESACCI-LAKES-L3S-LK_PRODUCTS-MERGED-20181111-fv2.1.0.nc?water_surface_height_above_reference_datum\n",
      "https://data.cci.ceda.ac.uk/thredds/dodsC/esacci/lakes/data/lake_products/L3S/v2.1/merged_product/2018/11/ESACCI-LAKES-L3S-LK_PRODUCTS-MERGED-20181112-fv2.1.0.nc?water_surface_height_above_reference_datum\n",
      "https://data.cci.ceda.ac.uk/thredds/dodsC/esacci/lakes/data/lake_products/L3S/v2.1/merged_product/2018/11/ESACCI-LAKES-L3S-LK_PRODUCTS-MERGED-20181113-fv2.1.0.nc?water_surface_height_above_reference_datum\n",
      "https://data.cci.ceda.ac.uk/thredds/dodsC/esacci/lakes/data/lake_products/L3S/v2.1/merged_product/2018/11/ESACCI-LAKES-L3S-LK_PRODUCTS-MERGED-20181114-fv2.1.0.nc?water_surface_height_above_reference_datum\n",
      "https://data.cci.ceda.ac.uk/thredds/dodsC/esacci/lakes/data/lake_products/L3S/v2.1/merged_product/2018/11/ESACCI-LAKES-L3S-LK_PRODUCTS-MERGED-20181115-fv2.1.0.nc?water_surface_height_above_reference_datum\n",
      "https://data.cci.ceda.ac.uk/thredds/dodsC/esacci/lakes/data/lake_products/L3S/v2.1/merged_product/2018/11/ESACCI-LAKES-L3S-LK_PRODUCTS-MERGED-20181116-fv2.1.0.nc?water_surface_height_above_reference_datum\n",
      "https://data.cci.ceda.ac.uk/thredds/dodsC/esacci/lakes/data/lake_products/L3S/v2.1/merged_product/2018/11/ESACCI-LAKES-L3S-LK_PRODUCTS-MERGED-20181117-fv2.1.0.nc?water_surface_height_above_reference_datum\n",
      "https://data.cci.ceda.ac.uk/thredds/dodsC/esacci/lakes/data/lake_products/L3S/v2.1/merged_product/2018/11/ESACCI-LAKES-L3S-LK_PRODUCTS-MERGED-20181118-fv2.1.0.nc?water_surface_height_above_reference_datum\n",
      "https://data.cci.ceda.ac.uk/thredds/dodsC/esacci/lakes/data/lake_products/L3S/v2.1/merged_product/2018/11/ESACCI-LAKES-L3S-LK_PRODUCTS-MERGED-20181119-fv2.1.0.nc?water_surface_height_above_reference_datum\n",
      "https://data.cci.ceda.ac.uk/thredds/dodsC/esacci/lakes/data/lake_products/L3S/v2.1/merged_product/2018/11/ESACCI-LAKES-L3S-LK_PRODUCTS-MERGED-20181120-fv2.1.0.nc?water_surface_height_above_reference_datum\n",
      "https://data.cci.ceda.ac.uk/thredds/dodsC/esacci/lakes/data/lake_products/L3S/v2.1/merged_product/2018/11/ESACCI-LAKES-L3S-LK_PRODUCTS-MERGED-20181121-fv2.1.0.nc?water_surface_height_above_reference_datum\n",
      "https://data.cci.ceda.ac.uk/thredds/dodsC/esacci/lakes/data/lake_products/L3S/v2.1/merged_product/2018/11/ESACCI-LAKES-L3S-LK_PRODUCTS-MERGED-20181122-fv2.1.0.nc?water_surface_height_above_reference_datum\n",
      "https://data.cci.ceda.ac.uk/thredds/dodsC/esacci/lakes/data/lake_products/L3S/v2.1/merged_product/2018/11/ESACCI-LAKES-L3S-LK_PRODUCTS-MERGED-20181123-fv2.1.0.nc?water_surface_height_above_reference_datum\n",
      "https://data.cci.ceda.ac.uk/thredds/dodsC/esacci/lakes/data/lake_products/L3S/v2.1/merged_product/2018/11/ESACCI-LAKES-L3S-LK_PRODUCTS-MERGED-20181124-fv2.1.0.nc?water_surface_height_above_reference_datum\n",
      "https://data.cci.ceda.ac.uk/thredds/dodsC/esacci/lakes/data/lake_products/L3S/v2.1/merged_product/2018/11/ESACCI-LAKES-L3S-LK_PRODUCTS-MERGED-20181125-fv2.1.0.nc?water_surface_height_above_reference_datum\n",
      "https://data.cci.ceda.ac.uk/thredds/dodsC/esacci/lakes/data/lake_products/L3S/v2.1/merged_product/2018/11/ESACCI-LAKES-L3S-LK_PRODUCTS-MERGED-20181126-fv2.1.0.nc?water_surface_height_above_reference_datum\n",
      "https://data.cci.ceda.ac.uk/thredds/dodsC/esacci/lakes/data/lake_products/L3S/v2.1/merged_product/2018/11/ESACCI-LAKES-L3S-LK_PRODUCTS-MERGED-20181127-fv2.1.0.nc?water_surface_height_above_reference_datum\n",
      "https://data.cci.ceda.ac.uk/thredds/dodsC/esacci/lakes/data/lake_products/L3S/v2.1/merged_product/2018/11/ESACCI-LAKES-L3S-LK_PRODUCTS-MERGED-20181128-fv2.1.0.nc?water_surface_height_above_reference_datum\n",
      "https://data.cci.ceda.ac.uk/thredds/dodsC/esacci/lakes/data/lake_products/L3S/v2.1/merged_product/2018/11/ESACCI-LAKES-L3S-LK_PRODUCTS-MERGED-20181129-fv2.1.0.nc?water_surface_height_above_reference_datum\n",
      "https://data.cci.ceda.ac.uk/thredds/dodsC/esacci/lakes/data/lake_products/L3S/v2.1/merged_product/2018/11/ESACCI-LAKES-L3S-LK_PRODUCTS-MERGED-20181130-fv2.1.0.nc?water_surface_height_above_reference_datum\n",
      "https://data.cci.ceda.ac.uk/thredds/dodsC/esacci/lakes/data/lake_products/L3S/v2.1/merged_product/2018/12/ESACCI-LAKES-L3S-LK_PRODUCTS-MERGED-20181201-fv2.1.0.nc?water_surface_height_above_reference_datum\n",
      "https://data.cci.ceda.ac.uk/thredds/dodsC/esacci/lakes/data/lake_products/L3S/v2.1/merged_product/2018/12/ESACCI-LAKES-L3S-LK_PRODUCTS-MERGED-20181202-fv2.1.0.nc?water_surface_height_above_reference_datum\n",
      "https://data.cci.ceda.ac.uk/thredds/dodsC/esacci/lakes/data/lake_products/L3S/v2.1/merged_product/2018/12/ESACCI-LAKES-L3S-LK_PRODUCTS-MERGED-20181203-fv2.1.0.nc?water_surface_height_above_reference_datum\n",
      "https://data.cci.ceda.ac.uk/thredds/dodsC/esacci/lakes/data/lake_products/L3S/v2.1/merged_product/2018/12/ESACCI-LAKES-L3S-LK_PRODUCTS-MERGED-20181204-fv2.1.0.nc?water_surface_height_above_reference_datum\n",
      "https://data.cci.ceda.ac.uk/thredds/dodsC/esacci/lakes/data/lake_products/L3S/v2.1/merged_product/2018/12/ESACCI-LAKES-L3S-LK_PRODUCTS-MERGED-20181205-fv2.1.0.nc?water_surface_height_above_reference_datum\n",
      "https://data.cci.ceda.ac.uk/thredds/dodsC/esacci/lakes/data/lake_products/L3S/v2.1/merged_product/2018/12/ESACCI-LAKES-L3S-LK_PRODUCTS-MERGED-20181206-fv2.1.0.nc?water_surface_height_above_reference_datum\n",
      "https://data.cci.ceda.ac.uk/thredds/dodsC/esacci/lakes/data/lake_products/L3S/v2.1/merged_product/2018/12/ESACCI-LAKES-L3S-LK_PRODUCTS-MERGED-20181207-fv2.1.0.nc?water_surface_height_above_reference_datum\n",
      "https://data.cci.ceda.ac.uk/thredds/dodsC/esacci/lakes/data/lake_products/L3S/v2.1/merged_product/2018/12/ESACCI-LAKES-L3S-LK_PRODUCTS-MERGED-20181208-fv2.1.0.nc?water_surface_height_above_reference_datum\n",
      "https://data.cci.ceda.ac.uk/thredds/dodsC/esacci/lakes/data/lake_products/L3S/v2.1/merged_product/2018/12/ESACCI-LAKES-L3S-LK_PRODUCTS-MERGED-20181209-fv2.1.0.nc?water_surface_height_above_reference_datum\n"
     ]
    },
    {
     "name": "stdout",
     "output_type": "stream",
     "text": [
      "https://data.cci.ceda.ac.uk/thredds/dodsC/esacci/lakes/data/lake_products/L3S/v2.1/merged_product/2018/12/ESACCI-LAKES-L3S-LK_PRODUCTS-MERGED-20181210-fv2.1.0.nc?water_surface_height_above_reference_datum\n",
      "https://data.cci.ceda.ac.uk/thredds/dodsC/esacci/lakes/data/lake_products/L3S/v2.1/merged_product/2018/12/ESACCI-LAKES-L3S-LK_PRODUCTS-MERGED-20181211-fv2.1.0.nc?water_surface_height_above_reference_datum\n",
      "https://data.cci.ceda.ac.uk/thredds/dodsC/esacci/lakes/data/lake_products/L3S/v2.1/merged_product/2018/12/ESACCI-LAKES-L3S-LK_PRODUCTS-MERGED-20181212-fv2.1.0.nc?water_surface_height_above_reference_datum\n",
      "https://data.cci.ceda.ac.uk/thredds/dodsC/esacci/lakes/data/lake_products/L3S/v2.1/merged_product/2018/12/ESACCI-LAKES-L3S-LK_PRODUCTS-MERGED-20181213-fv2.1.0.nc?water_surface_height_above_reference_datum\n",
      "https://data.cci.ceda.ac.uk/thredds/dodsC/esacci/lakes/data/lake_products/L3S/v2.1/merged_product/2018/12/ESACCI-LAKES-L3S-LK_PRODUCTS-MERGED-20181214-fv2.1.0.nc?water_surface_height_above_reference_datum\n",
      "https://data.cci.ceda.ac.uk/thredds/dodsC/esacci/lakes/data/lake_products/L3S/v2.1/merged_product/2018/12/ESACCI-LAKES-L3S-LK_PRODUCTS-MERGED-20181215-fv2.1.0.nc?water_surface_height_above_reference_datum\n",
      "https://data.cci.ceda.ac.uk/thredds/dodsC/esacci/lakes/data/lake_products/L3S/v2.1/merged_product/2018/12/ESACCI-LAKES-L3S-LK_PRODUCTS-MERGED-20181216-fv2.1.0.nc?water_surface_height_above_reference_datum\n",
      "https://data.cci.ceda.ac.uk/thredds/dodsC/esacci/lakes/data/lake_products/L3S/v2.1/merged_product/2018/12/ESACCI-LAKES-L3S-LK_PRODUCTS-MERGED-20181217-fv2.1.0.nc?water_surface_height_above_reference_datum\n",
      "https://data.cci.ceda.ac.uk/thredds/dodsC/esacci/lakes/data/lake_products/L3S/v2.1/merged_product/2018/12/ESACCI-LAKES-L3S-LK_PRODUCTS-MERGED-20181218-fv2.1.0.nc?water_surface_height_above_reference_datum\n",
      "https://data.cci.ceda.ac.uk/thredds/dodsC/esacci/lakes/data/lake_products/L3S/v2.1/merged_product/2018/12/ESACCI-LAKES-L3S-LK_PRODUCTS-MERGED-20181219-fv2.1.0.nc?water_surface_height_above_reference_datum\n",
      "https://data.cci.ceda.ac.uk/thredds/dodsC/esacci/lakes/data/lake_products/L3S/v2.1/merged_product/2018/12/ESACCI-LAKES-L3S-LK_PRODUCTS-MERGED-20181220-fv2.1.0.nc?water_surface_height_above_reference_datum\n",
      "https://data.cci.ceda.ac.uk/thredds/dodsC/esacci/lakes/data/lake_products/L3S/v2.1/merged_product/2018/12/ESACCI-LAKES-L3S-LK_PRODUCTS-MERGED-20181221-fv2.1.0.nc?water_surface_height_above_reference_datum\n",
      "https://data.cci.ceda.ac.uk/thredds/dodsC/esacci/lakes/data/lake_products/L3S/v2.1/merged_product/2018/12/ESACCI-LAKES-L3S-LK_PRODUCTS-MERGED-20181222-fv2.1.0.nc?water_surface_height_above_reference_datum\n",
      "https://data.cci.ceda.ac.uk/thredds/dodsC/esacci/lakes/data/lake_products/L3S/v2.1/merged_product/2018/12/ESACCI-LAKES-L3S-LK_PRODUCTS-MERGED-20181223-fv2.1.0.nc?water_surface_height_above_reference_datum\n",
      "https://data.cci.ceda.ac.uk/thredds/dodsC/esacci/lakes/data/lake_products/L3S/v2.1/merged_product/2018/12/ESACCI-LAKES-L3S-LK_PRODUCTS-MERGED-20181224-fv2.1.0.nc?water_surface_height_above_reference_datum\n",
      "https://data.cci.ceda.ac.uk/thredds/dodsC/esacci/lakes/data/lake_products/L3S/v2.1/merged_product/2018/12/ESACCI-LAKES-L3S-LK_PRODUCTS-MERGED-20181225-fv2.1.0.nc?water_surface_height_above_reference_datum\n",
      "https://data.cci.ceda.ac.uk/thredds/dodsC/esacci/lakes/data/lake_products/L3S/v2.1/merged_product/2018/12/ESACCI-LAKES-L3S-LK_PRODUCTS-MERGED-20181226-fv2.1.0.nc?water_surface_height_above_reference_datum\n",
      "https://data.cci.ceda.ac.uk/thredds/dodsC/esacci/lakes/data/lake_products/L3S/v2.1/merged_product/2018/12/ESACCI-LAKES-L3S-LK_PRODUCTS-MERGED-20181227-fv2.1.0.nc?water_surface_height_above_reference_datum\n",
      "https://data.cci.ceda.ac.uk/thredds/dodsC/esacci/lakes/data/lake_products/L3S/v2.1/merged_product/2018/12/ESACCI-LAKES-L3S-LK_PRODUCTS-MERGED-20181228-fv2.1.0.nc?water_surface_height_above_reference_datum\n",
      "https://data.cci.ceda.ac.uk/thredds/dodsC/esacci/lakes/data/lake_products/L3S/v2.1/merged_product/2018/12/ESACCI-LAKES-L3S-LK_PRODUCTS-MERGED-20181229-fv2.1.0.nc?water_surface_height_above_reference_datum\n",
      "https://data.cci.ceda.ac.uk/thredds/dodsC/esacci/lakes/data/lake_products/L3S/v2.1/merged_product/2018/12/ESACCI-LAKES-L3S-LK_PRODUCTS-MERGED-20181230-fv2.1.0.nc?water_surface_height_above_reference_datum\n",
      "https://data.cci.ceda.ac.uk/thredds/dodsC/esacci/lakes/data/lake_products/L3S/v2.1/merged_product/2018/12/ESACCI-LAKES-L3S-LK_PRODUCTS-MERGED-20181231-fv2.1.0.nc?water_surface_height_above_reference_datum\n"
     ]
    }
   ],
   "source": [
    "date_vec = []\n",
    "data_vec = []\n",
    "version = 2.1\n",
    "\n",
    "for data_date in np.arange(mindate.toordinal(), maxdate.toordinal()+1):\n",
    "    current_date = datetime.datetime.fromordinal(data_date)\n",
    "    date_str = current_date.strftime(\"%Y%m%d\")\n",
    "       \n",
    "    path = f'https://data.cci.ceda.ac.uk/thredds/dodsC/esacci/lakes/data/lake_products/L3S/v{version}/merged_product/'\n",
    "    path += f'{current_date.year}/{current_date.month:02}/'\n",
    "    path += f'ESACCI-LAKES-L3S-LK_PRODUCTS-MERGED-{date_str}-fv{version}.0.nc?{varname}'\n",
    "  \n",
    "    print (path)\n",
    "    in_nc = nc.Dataset(path)\n",
    "    ncvar = in_nc.variables[varname]\n",
    "    data = ncvar[0,miny:maxy+1,minx:maxx+1]\n",
    "    units = ncvar.units\n",
    "    in_nc.close()\n",
    "    \n",
    "    data[mask_lake == 0] = np.nan\n",
    "\n",
    "    if data.mask.all():\n",
    "        continue\n",
    "        \n",
    "    date_vec.append(date_str)\n",
    "    data_vec.append(np.nanmean(data))\n",
    "    "
   ]
  },
  {
   "cell_type": "markdown",
   "id": "eb57a83d",
   "metadata": {},
   "source": [
    "Generate a dataframe with date and data vectors"
   ]
  },
  {
   "cell_type": "code",
   "execution_count": 7,
   "id": "18ce5044",
   "metadata": {},
   "outputs": [],
   "source": [
    "df = pd.DataFrame({'date': date_vec, f'{varname}': data_vec})\n",
    "df['date'] = pd.to_datetime(df['date'], format = '%Y%m%d')"
   ]
  },
  {
   "cell_type": "markdown",
   "id": "d60e1cfc",
   "metadata": {},
   "source": [
    "Visualisation of the timeseries during the selected period"
   ]
  },
  {
   "cell_type": "code",
   "execution_count": 8,
   "id": "05bdbd07",
   "metadata": {},
   "outputs": [
    {
     "data": {
      "image/png": "[encoded data removed]",
      "text/plain": [
       "<Figure size 432x288 with 1 Axes>"
      ]
     },
     "metadata": {
      "needs_background": "light"
     },
     "output_type": "display_data"
    }
   ],
   "source": [
    "if units == '1' :\n",
    "    units = 'no units'\n",
    "plt.plot(df['date'], df[varname], marker='o')\n",
    "plt.title(f'Lake id: {lake_id}')\n",
    "plt.ylabel(f'{varname} ({units})')\n",
    "plt.xticks(rotation=90)\n",
    "plt.show()"
   ]
  },
  {
   "cell_type": "markdown",
   "id": "f300db19",
   "metadata": {},
   "source": [
    "Save time series data in a csv file"
   ]
  },
  {
   "cell_type": "code",
   "execution_count": null,
   "id": "50405d33",
   "metadata": {},
   "outputs": [],
   "source": [
    "df[varname] = np.round(df[varname], 3)\n",
    "df.to_csv('Turkana_lwe.csv', index = False)"
   ]
  }
 ],
 "metadata": {
  "kernelspec": {
   "display_name": "Python 3",
   "language": "python",
   "name": "python3"
  },
  "language_info": {
   "codemirror_mode": {
    "name": "ipython",
    "version": 3
   },
   "file_extension": ".py",
   "mimetype": "text/x-python",
   "name": "python",
   "nbconvert_exporter": "python",
   "pygments_lexer": "ipython3",
   "version": "3.9.4"
  }
 },
 "nbformat": 4,
 "nbformat_minor": 5
}
